{
  "cells": [
    {
      "cell_type": "markdown",
      "metadata": {},
      "source": [
        "# 01 - Exploratory Data Analysis\n",
        "Quick exploration of job postings sourced from the scraper or a baked-in sample dataset.\n"
      ]
    },
    {
      "cell_type": "code",
      "execution_count": 1,
      "id": "9be2f21a",
      "metadata": {},
      "outputs": [],
      "source": [
        "from pathlib import Path\n",
        "import sys\n",
        "\n",
        "# run once, near the top of your notebook\n",
        "repo_root = Path(__file__).resolve().parents[1] if \"__file__\" in globals() else Path.cwd().parents[1]\n",
        "if str(repo_root) not in sys.path:\n",
        "    sys.path.append(str(repo_root))\n"
      ]
    },
    {
      "cell_type": "code",
      "execution_count": 5,
      "id": "7bc5a726",
      "metadata": {},
      "outputs": [
        {
          "data": {
            "text/plain": [
              "WindowsPath('c:/Users/nirma/OneDrive - Lambton College/Documents/1.ML_AL_PROJECTS/Ongoing projects/Resume-Matcher')"
            ]
          },
          "execution_count": 5,
          "metadata": {},
          "output_type": "execute_result"
        }
      ],
      "source": [
        "repo_root"
      ]
    },
    {
      "cell_type": "code",
      "execution_count": 2,
      "id": "990fc782",
      "metadata": {},
      "outputs": [],
      "source": [
        "from collections import Counter\n",
        "from pathlib import Path\n",
        "\n",
        "import pandas as pd\n",
        "\n",
        "from src.storage.json_repository import JSONJobStore\n",
        "from src.preprocessing.text_cleaner import TextCleaner\n",
        "from src.preprocessing.skill_extractor import SkillExtractor\n"
      ]
    },
    {
      "cell_type": "code",
      "execution_count": null,
      "id": "2c3dae19",
      "metadata": {},
      "outputs": [
        {
          "data": {
            "text/html": [
              "<div>\n",
              "<style scoped>\n",
              "    .dataframe tbody tr th:only-of-type {\n",
              "        vertical-align: middle;\n",
              "    }\n",
              "\n",
              "    .dataframe tbody tr th {\n",
              "        vertical-align: top;\n",
              "    }\n",
              "\n",
              "    .dataframe thead th {\n",
              "        text-align: right;\n",
              "    }\n",
              "</style>\n",
              "<table border=\"1\" class=\"dataframe\">\n",
              "  <thead>\n",
              "    <tr style=\"text-align: right;\">\n",
              "      <th></th>\n",
              "      <th>job_title</th>\n",
              "      <th>job_description</th>\n",
              "      <th>company</th>\n",
              "      <th>location</th>\n",
              "      <th>posted_date</th>\n",
              "      <th>source</th>\n",
              "      <th>fetched_at</th>\n",
              "    </tr>\n",
              "  </thead>\n",
              "  <tbody>\n",
              "    <tr>\n",
              "      <th>0</th>\n",
              "      <td>Machine Learning Engineer</td>\n",
              "      <td>Build and deploy ML models with Python, scikit...</td>\n",
              "      <td>Acme AI</td>\n",
              "      <td>Remote</td>\n",
              "      <td>Posted 2 days ago</td>\n",
              "      <td>sample</td>\n",
              "      <td>2025-09-22 20:46:12.402283+00:00</td>\n",
              "    </tr>\n",
              "    <tr>\n",
              "      <th>1</th>\n",
              "      <td>Data Scientist</td>\n",
              "      <td>Analyze datasets using Python, pandas, SQL, an...</td>\n",
              "      <td>DataWorks</td>\n",
              "      <td>Toronto, ON</td>\n",
              "      <td>Posted 1 week ago</td>\n",
              "      <td>sample</td>\n",
              "      <td>2025-09-22 20:46:12.404553+00:00</td>\n",
              "    </tr>\n",
              "    <tr>\n",
              "      <th>2</th>\n",
              "      <td>MLOps Specialist</td>\n",
              "      <td>Manage ML pipelines with Docker, Kubernetes, a...</td>\n",
              "      <td>DeployLab</td>\n",
              "      <td>Vancouver, BC</td>\n",
              "      <td>Posted today</td>\n",
              "      <td>sample</td>\n",
              "      <td>2025-09-22 20:46:12.404553+00:00</td>\n",
              "    </tr>\n",
              "  </tbody>\n",
              "</table>\n",
              "</div>"
            ],
            "text/plain": [
              "                   job_title  \\\n",
              "0  Machine Learning Engineer   \n",
              "1             Data Scientist   \n",
              "2           MLOps Specialist   \n",
              "\n",
              "                                     job_description    company  \\\n",
              "0  Build and deploy ML models with Python, scikit...    Acme AI   \n",
              "1  Analyze datasets using Python, pandas, SQL, an...  DataWorks   \n",
              "2  Manage ML pipelines with Docker, Kubernetes, a...  DeployLab   \n",
              "\n",
              "        location        posted_date  source                       fetched_at  \n",
              "0         Remote  Posted 2 days ago  sample 2025-09-22 20:46:12.402283+00:00  \n",
              "1    Toronto, ON  Posted 1 week ago  sample 2025-09-22 20:46:12.404553+00:00  \n",
              "2  Vancouver, BC       Posted today  sample 2025-09-22 20:46:12.404553+00:00  "
            ]
          },
          "execution_count": 5,
          "metadata": {},
          "output_type": "execute_result"
        }
      ],
      "source": [
        "\n",
        "\n",
        "\n",
        "# else:\n",
        "#     sample_jobs = [\n",
        "#         {\n",
        "#             \"job_title\": \"Machine Learning Engineer\",\n",
        "#             \"job_description\": \"Build and deploy ML models with Python, scikit-learn, and AWS services.\",\n",
        "#             \"company\": \"Acme AI\",\n",
        "#             \"location\": \"Remote\",\n",
        "#             \"posted_date\": \"Posted 2 days ago\",\n",
        "#             \"source\": \"sample\",\n",
        "#             \"fetched_at\": pd.Timestamp.utcnow(),\n",
        "#         },\n",
        "#         {\n",
        "#             \"job_title\": \"Data Scientist\",\n",
        "#             \"job_description\": \"Analyze datasets using Python, pandas, SQL, and visualization dashboards.\",\n",
        "#             \"company\": \"DataWorks\",\n",
        "#             \"location\": \"Toronto, ON\",\n",
        "#             \"posted_date\": \"Posted 1 week ago\",\n",
        "#             \"source\": \"sample\",\n",
        "#             \"fetched_at\": pd.Timestamp.utcnow(),\n",
        "#         },\n",
        "#         {\n",
        "#             \"job_title\": \"MLOps Specialist\",\n",
        "#             \"job_description\": \"Manage ML pipelines with Docker, Kubernetes, and Terraform.\",\n",
        "#             \"company\": \"DeployLab\",\n",
        "#             \"location\": \"Vancouver, BC\",\n",
        "#             \"posted_date\": \"Posted today\",\n",
        "#             \"source\": \"sample\",\n",
        "#             \"fetched_at\": pd.Timestamp.utcnow(),\n",
        "#         },\n",
        "#     ]\n",
        "#     df = pd.DataFrame(sample_jobs)\n",
        "\n",
        "df.head()\n"
      ]
    },
    {
      "cell_type": "code",
      "execution_count": 6,
      "id": "93326d4b",
      "metadata": {},
      "outputs": [],
      "source": [
        "store = JSONJobStore()\n",
        "records = store.recent(limit=50)"
      ]
    },
    {
      "cell_type": "code",
      "execution_count": 7,
      "id": "9da93306",
      "metadata": {},
      "outputs": [
        {
          "data": {
            "text/plain": [
              "[]"
            ]
          },
          "execution_count": 7,
          "metadata": {},
          "output_type": "execute_result"
        }
      ],
      "source": [
        "records"
      ]
    },
    {
      "cell_type": "code",
      "execution_count": null,
      "id": "01789eb9",
      "metadata": {},
      "outputs": [],
      "source": [
        "if records:\n",
        "    df = pd.DataFrame(\n",
        "        {\n",
        "            \"job_title\": [r.job_title for r in records],\n",
        "            \"job_description\": [r.job_description for r in records],\n",
        "            \"company\": [r.company for r in records],\n",
        "            \"location\": [r.location for r in records],\n",
        "            \"posted_date\": [r.posted_date for r in records],\n",
        "            \"source\": [r.source for r in records],\n",
        "            \"fetched_at\": [r.fetched_at for r in records],\n",
        "        }\n",
        "    )"
      ]
    },
    {
      "cell_type": "code",
      "execution_count": null,
      "metadata": {},
      "outputs": [],
      "source": [
        "df[[\"job_title\", \"company\", \"location\", \"posted_date\"]]\n"
      ]
    },
    {
      "cell_type": "code",
      "execution_count": null,
      "metadata": {},
      "outputs": [],
      "source": [
        "cleaner = TextCleaner(stopwords={\"and\", \"with\", \"the\", \"to\"})\n",
        "df[\"clean_description\"] = df[\"job_description\"].fillna(\"\").apply(cleaner.clean)\n",
        "df[[\"job_title\", \"clean_description\"]].head()\n"
      ]
    },
    {
      "cell_type": "code",
      "execution_count": null,
      "metadata": {},
      "outputs": [],
      "source": [
        "extractor = SkillExtractor()\n",
        "skill_counts: Counter[str] = Counter()\n",
        "for text in df[\"job_description\"].dropna():\n",
        "    for match in extractor.extract(text):\n",
        "        skill_counts[match.skill] += match.occurrences\n",
        "\n",
        "skill_df = pd.DataFrame(\n",
        "    [\n",
        "        {\"skill\": skill, \"count\": count}\n",
        "        for skill, count in skill_counts.most_common()\n",
        "    ]\n",
        ")\n",
        "\n",
        "skill_df.head(10)\n"
      ]
    }
  ],
  "metadata": {
    "kernelspec": {
      "display_name": "Python 3",
      "language": "python",
      "name": "python3"
    },
    "language_info": {
      "codemirror_mode": {
        "name": "ipython",
        "version": 3
      },
      "file_extension": ".py",
      "mimetype": "text/x-python",
      "name": "python",
      "nbconvert_exporter": "python",
      "pygments_lexer": "ipython3",
      "version": "3.11.9"
    }
  },
  "nbformat": 4,
  "nbformat_minor": 5
}
