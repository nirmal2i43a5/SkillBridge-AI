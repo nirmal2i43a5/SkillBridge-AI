{
  "cells": [
    {
      "cell_type": "markdown",
      "metadata": {},
      "source": [
        "# 04 - Matching Baseline\n",
        "Use the ResumeRecommender with TF-IDF embeddings to retrieve the top matching roles for a sample resume.\n"
      ]
    },
    {
      "cell_type": "code",
      "execution_count": null,
      "metadata": {},
      "outputs": [],
      "source": [
        "import pandas as pd\n",
        "\n",
        "from src.features.embedding_generator import EmbeddingGenerator\n",
        "from src.recommender.recommender import JobPosting, ResumeRecommender\n"
      ]
    },
    {
      "cell_type": "code",
      "execution_count": null,
      "metadata": {},
      "outputs": [],
      "source": [
        "job_postings = [\n",
        "    JobPosting(\n",
        "        job_id=\"1\",\n",
        "        title=\"Machine Learning Engineer\",\n",
        "        description=\"Build ML models with Python, scikit-learn, and deploy via FastAPI.\",\n",
        "        company=\"Acme AI\",\n",
        "        location=\"Remote\",\n",
        "    ),\n",
        "    JobPosting(\n",
        "        job_id=\"2\",\n",
        "        title=\"Data Scientist\",\n",
        "        description=\"Analyze business data using SQL, pandas, and visualisation tools.\",\n",
        "        company=\"DataWorks\",\n",
        "        location=\"Toronto, ON\",\n",
        "    ),\n",
        "    JobPosting(\n",
        "        job_id=\"3\",\n",
        "        title=\"MLOps Specialist\",\n",
        "        description=\"Operate ML pipelines using Docker, Kubernetes, and Terraform.\",\n",
        "        company=\"DeployLab\",\n",
        "        location=\"Vancouver, BC\",\n",
        "    ),\n",
        "]\n",
        "\n",
        "resume_text = \"Seasoned ML engineer with experience in Python, scikit-learn, AWS, and FastAPI deployments.\"\n"
      ]
    },
    {
      "cell_type": "code",
      "execution_count": null,
      "metadata": {},
      "outputs": [],
      "source": [
        "recommender = ResumeRecommender(embedding_generator=EmbeddingGenerator(prefer_tfidf=True))\n",
        "recommender.index_jobs(job_postings)\n",
        "recommendations = recommender.recommend_for_resume_text(resume_text, top_k=3)\n"
      ]
    },
    {
      "cell_type": "code",
      "execution_count": null,
      "metadata": {},
      "outputs": [],
      "source": [
        "rec_df = pd.DataFrame(\n",
        "    [\n",
        "        {\n",
        "            \"job_id\": rec.job.job_id,\n",
        "            \"title\": rec.job.title,\n",
        "            \"company\": rec.job.company,\n",
        "            \"location\": rec.job.location,\n",
        "            \"score\": rec.score,\n",
        "            \"matched_skills\": \", \".join(rec.matched_skills) or \"-\",\n",
        "        }\n",
        "        for rec in recommendations\n",
        "    ]\n",
        ").sort_values(\"score\", ascending=False)\n",
        "\n",
        "rec_df\n"
      ]
    }
  ],
  "metadata": {
    "kernelspec": {
      "display_name": "Python 3",
      "language": "python",
      "name": "python3"
    },
    "language_info": {
      "name": "python",
      "version": "3.11"
    }
  },
  "nbformat": 4,
  "nbformat_minor": 5
}