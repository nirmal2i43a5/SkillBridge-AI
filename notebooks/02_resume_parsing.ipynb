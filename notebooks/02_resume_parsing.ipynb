{
  "cells": [
    {
      "cell_type": "markdown",
      "metadata": {},
      "source": [
        "# 02 - Resume Parsing\n",
        "Demonstrate resume text ingestion, basic cleaning, and skill extraction using helper utilities.\n"
      ]
    },
    {
      "cell_type": "code",
      "execution_count": null,
      "metadata": {},
      "outputs": [],
      "source": [
        "from pathlib import Path\n",
        "\n",
        "from src.ocr.pdf_parser import PDFParser\n",
        "from src.preprocessing.text_cleaner import TextCleaner\n",
        "from src.preprocessing.skill_extractor import SkillExtractor\n"
      ]
    },
    {
      "cell_type": "code",
      "execution_count": null,
      "metadata": {},
      "outputs": [],
      "source": [
        "resume_path = Path(\"examples/resume.txt\")\n",
        "resume_text = resume_path.read_text(encoding=\"utf-8\")\n",
        "\n",
        "print(resume_text)\n"
      ]
    },
    {
      "cell_type": "code",
      "execution_count": null,
      "metadata": {},
      "outputs": [],
      "source": [
        "cleaner = TextCleaner(stopwords={\"and\", \"with\", \"the\", \"to\"})\n",
        "cleaned_text = cleaner.clean(resume_text)\n",
        "\n",
        "print(cleaned_text)\n"
      ]
    },
    {
      "cell_type": "code",
      "execution_count": null,
      "metadata": {},
      "outputs": [],
      "source": [
        "extractor = SkillExtractor()\n",
        "matches = extractor.extract(resume_text)\n",
        "\n",
        "for match in matches:\n",
        "    print(f\"{match.skill}: {match.occurrences}\")\n"
      ]
    },
    {
      "cell_type": "code",
      "execution_count": null,
      "metadata": {},
      "outputs": [],
      "source": [
        "try:\n",
        "    pdf_parser = PDFParser()\n",
        "    print(\"PDF parser initialised successfully.\")\n",
        "except Exception as exc:  # pragma: no cover - runtime check\n",
        "    pdf_parser = None\n",
        "    print(f\"PDF parsing backend unavailable: {exc}\")\n"
      ]
    }
  ],
  "metadata": {
    "kernelspec": {
      "display_name": "Python 3",
      "language": "python",
      "name": "python3"
    },
    "language_info": {
      "name": "python",
      "version": "3.11"
    }
  },
  "nbformat": 4,
  "nbformat_minor": 5
}