{
  "cells": [
    {
      "cell_type": "markdown",
      "metadata": {},
      "source": [
        "# 03 - Embeddings\n",
        "Compare cosine similarities between a resume and sample job descriptions using the TF-IDF fallback embeddings.\n"
      ]
    },
    {
      "cell_type": "code",
      "execution_count": null,
      "metadata": {},
      "outputs": [],
      "source": [
        "import pandas as pd\n",
        "from sklearn.metrics.pairwise import cosine_similarity\n",
        "\n",
        "from src.features.embedding_generator import EmbeddingGenerator\n"
      ]
    },
    {
      "cell_type": "code",
      "execution_count": null,
      "metadata": {},
      "outputs": [],
      "source": [
        "resume_text = \"Experienced ML engineer skilled in Python, pandas, scikit-learn, and AWS deployments.\"\n",
        "job_texts = [\n",
        "    \"Design end-to-end machine learning systems with Python and AWS.\",\n",
        "    \"Develop frontend dashboards using React and JavaScript.\",\n",
        "    \"Manage containerised workloads with Docker, Kubernetes, and Terraform.\",\n",
        "]\n"
      ]
    },
    {
      "cell_type": "code",
      "execution_count": null,
      "metadata": {},
      "outputs": [],
      "source": [
        "generator = EmbeddingGenerator(prefer_tfidf=True)\n",
        "generator.fit_corpus(job_texts + [resume_text])\n",
        "\n",
        "job_embeddings = generator.encode(job_texts)\n",
        "resume_embedding = generator.encode([resume_text])\n",
        "\n",
        "scores = cosine_similarity(resume_embedding, job_embeddings)[0]\n",
        "\n",
        "similarity_df = pd.DataFrame(\n",
        "    {\n",
        "        \"job_description\": job_texts,\n",
        "        \"similarity\": scores,\n",
        "    }\n",
        ").sort_values(\"similarity\", ascending=False)\n",
        "\n",
        "similarity_df\n"
      ]
    }
  ],
  "metadata": {
    "kernelspec": {
      "display_name": "Python 3",
      "language": "python",
      "name": "python3"
    },
    "language_info": {
      "name": "python",
      "version": "3.11"
    }
  },
  "nbformat": 4,
  "nbformat_minor": 5
}